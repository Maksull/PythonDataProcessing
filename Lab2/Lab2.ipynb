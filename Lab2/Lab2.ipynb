{
 "cells": [
  {
   "cell_type": "code",
   "execution_count": 1,
   "id": "6b3273e4-4842-47f0-ad6e-c5f1823eb42d",
   "metadata": {
    "jupyter": {
     "source_hidden": true
    }
   },
   "outputs": [
    {
     "name": "stdout",
     "output_type": "stream",
     "text": [
      "3\n"
     ]
    }
   ],
   "source": [
    "N = (18 + 4 ) % 5 + 1\n",
    "print(N)"
   ]
  },
  {
   "cell_type": "code",
   "execution_count": 2,
   "id": "c4f1ee82-d09b-47f0-90d4-8416f3debb95",
   "metadata": {
    "jupyter": {
     "source_hidden": true
    }
   },
   "outputs": [
    {
     "name": "stdout",
     "output_type": "stream",
     "text": [
      "Defaulting to user installation because normal site-packages is not writeable\n",
      "Requirement already satisfied: pandas in c:\\users\\maksym\\appdata\\roaming\\python\\python312\\site-packages (2.2.2)\n",
      "Requirement already satisfied: numpy>=1.26.0 in c:\\users\\maksym\\appdata\\roaming\\python\\python312\\site-packages (from pandas) (2.1.1)\n",
      "Requirement already satisfied: python-dateutil>=2.8.2 in c:\\users\\maksym\\appdata\\roaming\\python\\python312\\site-packages (from pandas) (2.9.0.post0)\n",
      "Requirement already satisfied: pytz>=2020.1 in c:\\users\\maksym\\appdata\\roaming\\python\\python312\\site-packages (from pandas) (2024.2)\n",
      "Requirement already satisfied: tzdata>=2022.7 in c:\\users\\maksym\\appdata\\roaming\\python\\python312\\site-packages (from pandas) (2024.1)\n",
      "Requirement already satisfied: six>=1.5 in c:\\users\\maksym\\appdata\\roaming\\python\\python312\\site-packages (from python-dateutil>=2.8.2->pandas) (1.16.0)\n",
      "Defaulting to user installation because normal site-packages is not writeable\n",
      "Requirement already satisfied: matplotlib in c:\\users\\maksym\\appdata\\roaming\\python\\python312\\site-packages (3.9.2)\n",
      "Requirement already satisfied: contourpy>=1.0.1 in c:\\users\\maksym\\appdata\\roaming\\python\\python312\\site-packages (from matplotlib) (1.3.0)\n",
      "Requirement already satisfied: cycler>=0.10 in c:\\users\\maksym\\appdata\\roaming\\python\\python312\\site-packages (from matplotlib) (0.12.1)\n",
      "Requirement already satisfied: fonttools>=4.22.0 in c:\\users\\maksym\\appdata\\roaming\\python\\python312\\site-packages (from matplotlib) (4.53.1)\n",
      "Requirement already satisfied: kiwisolver>=1.3.1 in c:\\users\\maksym\\appdata\\roaming\\python\\python312\\site-packages (from matplotlib) (1.4.7)\n",
      "Requirement already satisfied: numpy>=1.23 in c:\\users\\maksym\\appdata\\roaming\\python\\python312\\site-packages (from matplotlib) (2.1.1)\n",
      "Requirement already satisfied: packaging>=20.0 in c:\\users\\maksym\\appdata\\roaming\\python\\python312\\site-packages (from matplotlib) (24.1)\n",
      "Requirement already satisfied: pillow>=8 in c:\\users\\maksym\\appdata\\roaming\\python\\python312\\site-packages (from matplotlib) (10.4.0)\n",
      "Requirement already satisfied: pyparsing>=2.3.1 in c:\\users\\maksym\\appdata\\roaming\\python\\python312\\site-packages (from matplotlib) (3.1.4)\n",
      "Requirement already satisfied: python-dateutil>=2.7 in c:\\users\\maksym\\appdata\\roaming\\python\\python312\\site-packages (from matplotlib) (2.9.0.post0)\n",
      "Requirement already satisfied: six>=1.5 in c:\\users\\maksym\\appdata\\roaming\\python\\python312\\site-packages (from python-dateutil>=2.7->matplotlib) (1.16.0)\n"
     ]
    }
   ],
   "source": [
    "!pip install pandas\n",
    "!pip install matplotlib"
   ]
  },
  {
   "cell_type": "code",
   "execution_count": 3,
   "id": "173a739c-d6ff-42e9-8ff2-f1730378b246",
   "metadata": {
    "jupyter": {
     "source_hidden": true
    }
   },
   "outputs": [
    {
     "name": "stdout",
     "output_type": "stream",
     "text": [
      "   Id       Name  Year Gender  Count\n",
      "0   1       Mary  1880      F   7065\n",
      "1   2       Anna  1880      F   2604\n",
      "2   3       Emma  1880      F   2003\n",
      "3   4  Elizabeth  1880      F   1939\n",
      "4   5     Minnie  1880      F   1746\n",
      "5   6   Margaret  1880      F   1578\n",
      "6   7        Ida  1880      F   1472\n",
      "7   8      Alice  1880      F   1414\n"
     ]
    }
   ],
   "source": [
    "# Task 1 Print the first 8 lines of the data set.\n",
    "import pandas as pd\n",
    "\n",
    "file_path = 'NationalNames.csv'\n",
    "data = pd.read_csv(file_path)\n",
    "\n",
    "print(data.head(8))"
   ]
  },
  {
   "cell_type": "code",
   "execution_count": 4,
   "id": "28b2e5f2-3374-4a2a-8b8f-76b28f083714",
   "metadata": {
    "jupyter": {
     "source_hidden": true
    }
   },
   "outputs": [
    {
     "name": "stdout",
     "output_type": "stream",
     "text": [
      "              Id     Name  Year Gender  Count\n",
      "1825425  1825426       Zo  2014      M      5\n",
      "1825426  1825427    Zyeir  2014      M      5\n",
      "1825427  1825428     Zyel  2014      M      5\n",
      "1825428  1825429   Zykeem  2014      M      5\n",
      "1825429  1825430   Zymeer  2014      M      5\n",
      "1825430  1825431  Zymiere  2014      M      5\n",
      "1825431  1825432    Zyran  2014      M      5\n",
      "1825432  1825433    Zyrin  2014      M      5\n"
     ]
    }
   ],
   "source": [
    "# Task 2 Print the last 8 lines of the data set.\n",
    "import pandas as pd\n",
    "\n",
    "file_path = 'NationalNames.csv'\n",
    "data = pd.read_csv(file_path)\n",
    "\n",
    "print(data.tail(8))"
   ]
  },
  {
   "cell_type": "code",
   "execution_count": 5,
   "id": "a71cccf7-f579-43cf-a0e1-90b1e06d2ae9",
   "metadata": {
    "jupyter": {
     "source_hidden": true
    }
   },
   "outputs": [
    {
     "name": "stdout",
     "output_type": "stream",
     "text": [
      "\n",
      "Descriptive Statistics:\n",
      "                  Id          Year         Count\n",
      "count  1.825433e+06  1.825433e+06  1.825433e+06\n",
      "mean   9.127170e+05  1.972620e+03  1.846879e+02\n",
      "std    5.269573e+05  3.352891e+01  1.566711e+03\n",
      "min    1.000000e+00  1.880000e+03  5.000000e+00\n",
      "25%    4.563590e+05  1.949000e+03  7.000000e+00\n",
      "50%    9.127170e+05  1.982000e+03  1.200000e+01\n",
      "75%    1.369075e+06  2.001000e+03  3.200000e+01\n",
      "max    1.825433e+06  2.014000e+03  9.968000e+04\n"
     ]
    }
   ],
   "source": [
    "# Task 4 Get general information about the data in the dataset.\n",
    "import pandas as pd\n",
    "\n",
    "file_path = 'NationalNames.csv'\n",
    "data = pd.read_csv(file_path)\n",
    "\n",
    "# Descriptive statistics for numerical columns\n",
    "data_description = data.describe()\n",
    "\n",
    "print(\"\\nDescriptive Statistics:\\n\", data_description)"
   ]
  },
  {
   "cell_type": "code",
   "execution_count": 6,
   "id": "3f16fe07-5fb4-4446-b641-56b4df9f59f1",
   "metadata": {
    "jupyter": {
     "source_hidden": true
    }
   },
   "outputs": [
    {
     "name": "stdout",
     "output_type": "stream",
     "text": [
      "93889\n"
     ]
    }
   ],
   "source": [
    "# Task 5 Find the number of unique names in the dataset.\n",
    "import pandas as pd\n",
    "\n",
    "file_path = 'NationalNames.csv'\n",
    "data = pd.read_csv(file_path)\n",
    "\n",
    "# Number of unique names in the dataset\n",
    "unique_names_count = data['Name'].nunique()\n",
    "\n",
    "# Display the result\n",
    "print(unique_names_count)"
   ]
  },
  {
   "cell_type": "code",
   "execution_count": 7,
   "id": "7f479932-a21e-4dd6-b5bd-b61b55172f86",
   "metadata": {
    "jupyter": {
     "source_hidden": true
    }
   },
   "outputs": [
    {
     "name": "stdout",
     "output_type": "stream",
     "text": [
      "Gender\n",
      "F    64911\n",
      "M    39199\n",
      "Name: Name, dtype: int64\n"
     ]
    }
   ],
   "source": [
    "# Task 6 Calculate the number of unique female and male names in the whole dataset\n",
    "import pandas as pd\n",
    "\n",
    "file_path = 'NationalNames.csv'\n",
    "data = pd.read_csv(file_path)\n",
    "\n",
    "# Calculate the number of unique names for females and males\n",
    "unique_names_count = data.groupby('Gender')['Name'].nunique()\n",
    "\n",
    "print(unique_names_count)"
   ]
  },
  {
   "cell_type": "code",
   "execution_count": 8,
   "id": "44bba2b7-e34e-45ac-a960-b15feb32d6db",
   "metadata": {
    "jupyter": {
     "source_hidden": true
    }
   },
   "outputs": [
    {
     "name": "stdout",
     "output_type": "stream",
     "text": [
      "              Id     Name  Year Gender  Count\n",
      "1677392  1677393    Jacob  2010      M  22082\n",
      "1677393  1677394    Ethan  2010      M  17985\n",
      "1677394  1677395  Michael  2010      M  17308\n",
      "1677395  1677396   Jayden  2010      M  17152\n",
      "1677396  1677397  William  2010      M  17030\n"
     ]
    }
   ],
   "source": [
    "# Task 7 Find the 5 most popular male names in 2010\n",
    "import pandas as pd\n",
    "\n",
    "file_path = 'NationalNames.csv'\n",
    "data = pd.read_csv(file_path)\n",
    "\n",
    "# Filter the dataset for males in the year 2010\n",
    "male_names_2010 = data[(data['Year'] == 2010) & (data['Gender'] == 'M')]\n",
    "\n",
    "# Sort by the 'Count' column in descending order and get the top 5 names\n",
    "top_5_male_names_2010 = male_names_2010.sort_values(by='Count', ascending=False).head(5)\n",
    "\n",
    "print(top_5_male_names_2010)"
   ]
  },
  {
   "cell_type": "code",
   "execution_count": 9,
   "id": "1cd79a53-0f81-4808-995d-aef3ed353e15",
   "metadata": {
    "jupyter": {
     "source_hidden": true
    }
   },
   "outputs": [
    {
     "name": "stdout",
     "output_type": "stream",
     "text": [
      "The name is 'Linda' in 1947\n"
     ]
    }
   ],
   "source": [
    "# Task 8 Find the most popular name based on the results of one year (the name for which the Count is maximum)\n",
    "import pandas as pd\n",
    "\n",
    "file_path = 'NationalNames.csv'\n",
    "data = pd.read_csv(file_path)\n",
    "\n",
    "# Sort the dataset by 'Count' in descending order and get the first row\n",
    "most_popular_name = data.sort_values(by='Count', ascending=False).iloc[0]\n",
    "\n",
    "print(f\"The name is '{most_popular_name['Name']}' in {most_popular_name['Year']}\")"
   ]
  },
  {
   "cell_type": "code",
   "execution_count": 10,
   "id": "8f967e66-823a-42a8-9273-9d1462e01623",
   "metadata": {
    "jupyter": {
     "source_hidden": true
    }
   },
   "outputs": [
    {
     "name": "stdout",
     "output_type": "stream",
     "text": [
      "254615\n"
     ]
    }
   ],
   "source": [
    "# Task 9 Count the number of records for which Count is the minimum in the set.\n",
    "import pandas as pd\n",
    "\n",
    "file_path = 'NationalNames.csv'\n",
    "data = pd.read_csv(file_path)\n",
    "\n",
    "# Find the minimum count in the dataset\n",
    "min_count = data['Count'].min()\n",
    "\n",
    "# Filter the dataset for rows where 'Count' is equal to the minimum count\n",
    "records_with_min_count = data[data['Count'] == min_count]\n",
    "\n",
    "# Count the number of such records\n",
    "num_records_with_min_count = records_with_min_count.shape[0]\n",
    "\n",
    "print(num_records_with_min_count)"
   ]
  },
  {
   "cell_type": "code",
   "execution_count": 11,
   "id": "a41fe2bc-7a9e-4b98-844c-91d4a9add1b0",
   "metadata": {
    "jupyter": {
     "source_hidden": true
    }
   },
   "outputs": [
    {
     "name": "stdout",
     "output_type": "stream",
     "text": [
      "Year\n",
      "1880     1889\n",
      "1881     1830\n",
      "1882     2012\n",
      "1883     1962\n",
      "1884     2158\n",
      "1885     2139\n",
      "1886     2225\n",
      "1887     2215\n",
      "1888     2454\n",
      "1889     2390\n",
      "1890     2475\n",
      "1891     2454\n",
      "1892     2686\n",
      "1893     2622\n",
      "1894     2705\n",
      "1895     2799\n",
      "1896     2839\n",
      "1897     2763\n",
      "1898     2987\n",
      "1899     2777\n",
      "1900     3395\n",
      "1901     2901\n",
      "1902     3065\n",
      "1903     3096\n",
      "1904     3252\n",
      "1905     3332\n",
      "1906     3307\n",
      "1907     3592\n",
      "1908     3640\n",
      "1909     3837\n",
      "1910     4174\n",
      "1911     4394\n",
      "1912     5726\n",
      "1913     6263\n",
      "1914     7159\n",
      "1915     8412\n",
      "1916     8692\n",
      "1917     8880\n",
      "1918     9305\n",
      "1919     9304\n",
      "1920     9633\n",
      "1921     9727\n",
      "1922     9659\n",
      "1923     9539\n",
      "1924     9730\n",
      "1925     9514\n",
      "1926     9337\n",
      "1927     9270\n",
      "1928     9051\n",
      "1929     8708\n",
      "1930     8712\n",
      "1931     8300\n",
      "1932     8342\n",
      "1933     8016\n",
      "1934     8191\n",
      "1935     8081\n",
      "1936     7907\n",
      "1937     7964\n",
      "1938     8054\n",
      "1939     7942\n",
      "1940     7983\n",
      "1941     8083\n",
      "1942     8385\n",
      "1943     8380\n",
      "1944     8163\n",
      "1945     8080\n",
      "1946     8683\n",
      "1947     9307\n",
      "1948     9184\n",
      "1949     9233\n",
      "1950     9278\n",
      "1951     9426\n",
      "1952     9585\n",
      "1953     9749\n",
      "1954     9859\n",
      "1955     9994\n",
      "1956    10220\n",
      "1957    10379\n",
      "1958    10381\n",
      "1959    10597\n",
      "1960    10753\n",
      "1961    11003\n",
      "1962    10979\n",
      "1963    11098\n",
      "1964    11208\n",
      "1965    10834\n",
      "1966    11022\n",
      "1967    11242\n",
      "1968    11732\n",
      "1969    12472\n",
      "1970    13402\n",
      "1971    13829\n",
      "1972    14010\n",
      "1973    14265\n",
      "1974    14738\n",
      "1975    15366\n",
      "1976    15844\n",
      "1977    16542\n",
      "1978    16614\n",
      "1979    17337\n",
      "1980    17712\n",
      "1981    17739\n",
      "1982    17905\n",
      "1983    17660\n",
      "1984    17738\n",
      "1985    18239\n",
      "1986    18779\n",
      "1987    19467\n",
      "1988    20422\n",
      "1989    21615\n",
      "1990    22674\n",
      "1991    23075\n",
      "1992    23352\n",
      "1993    23752\n",
      "1994    23844\n",
      "1995    23963\n",
      "1996    24300\n",
      "1997    24878\n",
      "1998    25710\n",
      "1999    26335\n",
      "2000    27508\n",
      "2001    27972\n",
      "2002    28276\n",
      "2003    28877\n",
      "2004    29490\n",
      "2005    30140\n",
      "2006    31612\n",
      "2007    32400\n",
      "2008    32488\n",
      "2009    32225\n",
      "2010    31603\n",
      "2011    31418\n",
      "2012    31236\n",
      "2013    30774\n",
      "2014    30579\n"
     ]
    }
   ],
   "source": [
    "# Task 10 Count the number of unique names in each year\n",
    "import pandas as pd\n",
    "\n",
    "file_path = 'NationalNames.csv'\n",
    "data = pd.read_csv(file_path)\n",
    "\n",
    "# Find the minimum count in the dataset\n",
    "min_count = data['Count'].min()\n",
    "\n",
    "# Group by 'Year' and count unique names for each year\n",
    "unique_names_per_year = data.groupby('Year')['Name'].nunique()\n",
    "\n",
    "print(unique_names_per_year.to_string())"
   ]
  },
  {
   "cell_type": "code",
   "execution_count": 12,
   "id": "3e77452f-3aa2-421c-bf7d-28473940c56e",
   "metadata": {
    "jupyter": {
     "source_hidden": true
    }
   },
   "outputs": [
    {
     "name": "stdout",
     "output_type": "stream",
     "text": [
      " Year  Name\n",
      " 2008 32488\n"
     ]
    }
   ],
   "source": [
    "# Task 11 Find the year with the most unique names.\n",
    "import pandas as pd\n",
    "\n",
    "file_path = 'NationalNames.csv'\n",
    "data = pd.read_csv(file_path)\n",
    "\n",
    "# Group by 'Year' and count unique names for each year\n",
    "unique_names_per_year = data.groupby('Year')['Name'].nunique()\n",
    "\n",
    "# Find the year with the maximum number of unique names\n",
    "year_with_most_unique_names = unique_names_per_year.idxmax()\n",
    "max_unique_names = unique_names_per_year.max()\n",
    "\n",
    "# Create a DataFrame to display the result as a table\n",
    "result_df = pd.DataFrame({\n",
    "    'Year': [year_with_most_unique_names],\n",
    "    'Name': [max_unique_names]\n",
    "})\n",
    "\n",
    "print(result_df.to_string(index=False))"
   ]
  },
  {
   "cell_type": "code",
   "execution_count": 13,
   "id": "f0f5c36b-2022-4f3a-b16d-61156d3cf253",
   "metadata": {
    "jupyter": {
     "source_hidden": true
    }
   },
   "outputs": [
    {
     "name": "stdout",
     "output_type": "stream",
     "text": [
      "Jacob\n"
     ]
    }
   ],
   "source": [
    "# Task 12 Find the most popular name in the year with the highest number of unique names (i.e. 2008)\n",
    "import pandas as pd\n",
    "\n",
    "file_path = 'NationalNames.csv'\n",
    "data = pd.read_csv(file_path)\n",
    "\n",
    "# Filter the dataset for the year 2008\n",
    "data_2008 = data[data['Year'] == 2008]\n",
    "\n",
    "# Sort by 'Count' in descending order to find the most popular name\n",
    "most_popular_name_2008 = data_2008.sort_values(by='Count', ascending=False).iloc[0]\n",
    "\n",
    "print(most_popular_name_2008['Name'])"
   ]
  },
  {
   "cell_type": "code",
   "execution_count": 14,
   "id": "1eb41cda-ba84-4e98-be75-4ef51e697e39",
   "metadata": {
    "jupyter": {
     "source_hidden": true
    }
   },
   "outputs": [
    {
     "name": "stdout",
     "output_type": "stream",
     "text": [
      "54\n"
     ]
    }
   ],
   "source": [
    "# Task 18 Count the number of years when girls were born more than boys.\n",
    "import pandas as pd\n",
    "\n",
    "file_path = 'NationalNames.csv'\n",
    "data = pd.read_csv(file_path)\n",
    "\n",
    "# Group by 'Year' and 'Gender', then sum the 'Count' for each group\n",
    "births_per_year_gender = data.groupby(['Year', 'Gender'])['Count'].sum().unstack()\n",
    "\n",
    "# Filter to find years where more girls ('F') were born than boys ('M')\n",
    "years_more_girls_than_boys = births_per_year_gender[births_per_year_gender['F'] > births_per_year_gender['M']]\n",
    "\n",
    "# Count the number of such years\n",
    "num_years_more_girls_than_boys = years_more_girls_than_boys.shape[0]\n",
    "\n",
    "print(num_years_more_girls_than_boys)"
   ]
  },
  {
   "cell_type": "code",
   "execution_count": 15,
   "id": "e8ceef61-a9d4-422f-82c2-e7dd446e9336",
   "metadata": {
    "jupyter": {
     "source_hidden": true
    }
   },
   "outputs": [
    {
     "data": {
      "image/png": "[encoded data removed]",
      "text/plain": [
       "<Figure size 1000x600 with 1 Axes>"
      ]
     },
     "metadata": {},
     "output_type": "display_data"
    }
   ],
   "source": [
    "# Task 19 Draw a graph of the total number of births of boys and girls per year.\n",
    "import pandas as pd\n",
    "import matplotlib.pyplot as plt\n",
    "\n",
    "file_path = 'NationalNames.csv'\n",
    "data = pd.read_csv(file_path)\n",
    "\n",
    "# Group by 'Year' and 'Gender', then sum the 'Count' for each group\n",
    "births_per_year_gender = data.groupby(['Year', 'Gender'])['Count'].sum().unstack()\n",
    "\n",
    "# Plot the total number of births for boys (M) and girls (F) per year\n",
    "plt.figure(figsize=(10,6))\n",
    "plt.plot(births_per_year_gender.index, births_per_year_gender['F'], label='Girls', color='pink')\n",
    "plt.plot(births_per_year_gender.index, births_per_year_gender['M'], label='Boys', color='blue')\n",
    "\n",
    "# Set the ticks to display every 20 years on the x-axis\n",
    "plt.xticks(ticks=range(births_per_year_gender.index.min(), births_per_year_gender.index.max()+1, 20))\n",
    "\n",
    "# Format the y-axis ticks to display the desired format\n",
    "plt.ticklabel_format(style='plain', axis='y', scilimits=(0,0))\n",
    "\n",
    "# Add labels and title\n",
    "plt.xlabel('Year')\n",
    "plt.ylabel('Total births per year')\n",
    "plt.title('Number of births of boys and girls per year')\n",
    "plt.legend()\n",
    "\n",
    "plt.show()"
   ]
  },
  {
   "cell_type": "code",
   "execution_count": 16,
   "id": "8597c440-df29-4a12-beee-56bbfc9f28bf",
   "metadata": {
    "jupyter": {
     "source_hidden": true
    }
   },
   "outputs": [
    {
     "name": "stdout",
     "output_type": "stream",
     "text": [
      "10221\n"
     ]
    }
   ],
   "source": [
    "# Task 20 Count the number of gender-neutral names (the same for girls and boys)\n",
    "import pandas as pd\n",
    "\n",
    "file_path = 'NationalNames.csv'\n",
    "data = pd.read_csv(file_path)\n",
    "\n",
    "# Group by 'Name' and 'Gender', and count how many times each name appears for each gender\n",
    "names_by_gender = data.groupby(['Name', 'Gender']).size().unstack(fill_value=0)\n",
    "\n",
    "# Find names that are used for both boys ('M') and girls ('F')\n",
    "gender_neutral_names = names_by_gender[(names_by_gender['F'] > 0) & (names_by_gender['M'] > 0)]\n",
    "\n",
    "# Count the number of gender-neutral names\n",
    "num_gender_neutral_names = gender_neutral_names.shape[0]\n",
    "\n",
    "print(num_gender_neutral_names)"
   ]
  },
  {
   "cell_type": "code",
   "execution_count": 17,
   "id": "9d139b53-33c8-4d26-8d71-d2b639f0ce6c",
   "metadata": {
    "jupyter": {
     "source_hidden": true
    }
   },
   "outputs": [
    {
     "name": "stdout",
     "output_type": "stream",
     "text": [
      "4139\n"
     ]
    }
   ],
   "source": [
    "# Task 21 Count how many times the boys were called Barbara\n",
    "import pandas as pd\n",
    "\n",
    "file_path = 'NationalNames.csv'\n",
    "data = pd.read_csv(file_path)\n",
    "\n",
    "# Filter the dataset for boys named 'Barbara'\n",
    "boys_named_barbara = data[(data['Name'] == 'Barbara') & (data['Gender'] == 'M')]\n",
    "\n",
    "# Sum the 'Count' column to get the total number of occurrences\n",
    "total_boys_named_barbara = boys_named_barbara['Count'].sum()\n",
    "\n",
    "print(total_boys_named_barbara)"
   ]
  },
  {
   "cell_type": "code",
   "execution_count": 18,
   "id": "b2988353-8952-478c-8186-30205d9be235",
   "metadata": {
    "jupyter": {
     "source_hidden": true
    }
   },
   "outputs": [
    {
     "name": "stdout",
     "output_type": "stream",
     "text": [
      "       Name  Total\n",
      "0   Francis    270\n",
      "1     James    270\n",
      "2      Jean    270\n",
      "3     Jesse    270\n",
      "4    Jessie    270\n",
      "5      John    270\n",
      "6   Johnnie    270\n",
      "7    Joseph    270\n",
      "8       Lee    270\n",
      "9    Leslie    270\n",
      "10   Marion    270\n",
      "11    Ollie    270\n",
      "12   Robert    270\n",
      "13   Sidney    270\n",
      "14   Tommie    270\n",
      "15  William    270\n"
     ]
    }
   ],
   "source": [
    "# Task 23 Know the most popular gender-neutral names (those that are present every year)\n",
    "import pandas as pd\n",
    "\n",
    "file_path = 'NationalNames.csv'\n",
    "data = pd.read_csv(file_path)\n",
    "\n",
    "# Group by 'Name' and 'Gender', and count how many times each name appears for each gender\n",
    "names_by_gender = data.groupby(['Name', 'Gender']).size().unstack(fill_value=0)\n",
    "\n",
    "# Find names that are used for both boys ('M') and girls ('F')\n",
    "gender_neutral_names = names_by_gender[(names_by_gender['F'] > 0) & (names_by_gender['M'] > 0)].copy()\n",
    "\n",
    "# Calculate the total popularity of each gender-neutral name\n",
    "gender_neutral_names['Total'] = gender_neutral_names['F'] + gender_neutral_names['M']\n",
    "\n",
    "# Sort the gender-neutral names by total popularity in descending order, then alphabetically\n",
    "sorted_names = gender_neutral_names.sort_values(by=['Total', 'Name'], ascending=[False, True])\n",
    "\n",
    "# Reset the index to make 'Name' a regular column\n",
    "sorted_names_reset = sorted_names.reset_index()\n",
    "\n",
    "# Select only the 'Name' and 'Total' columns\n",
    "result = sorted_names_reset[['Name', 'Total']]\n",
    "\n",
    "print(result.head(16).to_string(index=True, index_names=False))"
   ]
  },
  {
   "cell_type": "code",
   "execution_count": 19,
   "id": "5e114525-a22f-4734-a3c6-5ea9aef6320b",
   "metadata": {
    "jupyter": {
     "source_hidden": true
    }
   },
   "outputs": [
    {
     "data": {
      "image/png": "[encoded data removed]",
      "text/plain": [
       "<Figure size 1200x600 with 1 Axes>"
      ]
     },
     "metadata": {},
     "output_type": "display_data"
    }
   ],
   "source": [
    "# Task 25 Draw graphs of the number of names John and Mary by year without regard to gender.\n",
    "import pandas as pd\n",
    "import matplotlib.pyplot as plt\n",
    "\n",
    "# Read the CSV file\n",
    "df = pd.read_csv('NationalNames.csv')\n",
    "\n",
    "# Filter the dataframe for 'John' and 'Mary'\n",
    "john_mary_df = df[df['Name'].isin(['John', 'Mary'])]\n",
    "\n",
    "# Group by Name and Year, summing the Count\n",
    "grouped_df = john_mary_df.groupby(['Name', 'Year'])['Count'].sum().unstack(level=0)\n",
    "\n",
    "# Create the line plot\n",
    "plt.figure(figsize=(12, 6))\n",
    "plt.plot(grouped_df.index, grouped_df['John'], label='John')\n",
    "plt.plot(grouped_df.index, grouped_df['Mary'], label='Mary')\n",
    "\n",
    "plt.title('Number of names John and Mary by year')\n",
    "plt.xlabel('Year')\n",
    "plt.ylabel('Count')\n",
    "plt.legend()\n",
    "plt.grid(True)\n",
    "\n",
    "plt.show()"
   ]
  },
  {
   "cell_type": "code",
   "execution_count": 20,
   "id": "19b8dcd5-e603-497e-9293-e6240cadb47b",
   "metadata": {},
   "outputs": [
    {
     "name": "stdout",
     "output_type": "stream",
     "text": [
      " Year     Name  Count\n",
      " 1880     John   9701\n",
      " 1881     John   8795\n",
      " 1882     John   9597\n",
      " 1883     John   8934\n",
      " 1884     John   9428\n",
      " 1885     Mary   9166\n",
      " 1886     Mary   9922\n",
      " 1887     Mary   9935\n",
      " 1888     Mary  11804\n",
      " 1889     Mary  11689\n",
      " 1890     Mary  12113\n",
      " 1891     Mary  11742\n",
      " 1892     Mary  13223\n",
      " 1893     Mary  12839\n",
      " 1894     Mary  13199\n",
      " 1895     Mary  13493\n",
      " 1896     Mary  13868\n",
      " 1897     Mary  13476\n",
      " 1898     Mary  14456\n",
      " 1899     Mary  13222\n",
      " 1900     Mary  16782\n",
      " 1901     Mary  13194\n",
      " 1902     Mary  14542\n",
      " 1903     Mary  14338\n",
      " 1904     Mary  15020\n",
      " 1905     Mary  16135\n",
      " 1906     Mary  16446\n",
      " 1907     Mary  17650\n",
      " 1908     Mary  18745\n",
      " 1909     Mary  19339\n",
      " 1910     Mary  22947\n",
      " 1911     Mary  24488\n",
      " 1912     Mary  32421\n",
      " 1913     Mary  36767\n",
      " 1914     Mary  45471\n",
      " 1915     Mary  58346\n",
      " 1916     Mary  61601\n",
      " 1917     Mary  64439\n",
      " 1918     Mary  67539\n",
      " 1919     Mary  65995\n",
      " 1920     Mary  71171\n",
      " 1921     Mary  74172\n",
      " 1922     Mary  72357\n",
      " 1923     Mary  71837\n",
      " 1924     Mary  73750\n",
      " 1925     Mary  70862\n",
      " 1926     Mary  68095\n",
      " 1927     Mary  70914\n",
      " 1928     Mary  67160\n",
      " 1929     Mary  63835\n",
      " 1930     Mary  64474\n",
      " 1931   Robert  60840\n",
      " 1932     Mary  60201\n",
      " 1933     Mary  55809\n",
      " 1934     Mary  57221\n",
      " 1935   Robert  56745\n",
      " 1936   Robert  58707\n",
      " 1937   Robert  62044\n",
      " 1938   Robert  62480\n",
      " 1939    James  59895\n",
      " 1940    James  62731\n",
      " 1941    James  66974\n",
      " 1942    James  77455\n",
      " 1943    James  80519\n",
      " 1944    James  77181\n",
      " 1945    James  74696\n",
      " 1946    James  87675\n",
      " 1947    Linda  99895\n",
      " 1948    Linda  96412\n",
      " 1949    Linda  91179\n",
      " 1950    James  86473\n",
      " 1951    James  87434\n",
      " 1952    James  87344\n",
      " 1953   Robert  86363\n",
      " 1954  Michael  88701\n",
      " 1955  Michael  88534\n",
      " 1956  Michael  90877\n",
      " 1957  Michael  92963\n",
      " 1958  Michael  90814\n",
      " 1959  Michael  85556\n",
      " 1960    David  86153\n",
      " 1961  Michael  87242\n",
      " 1962  Michael  85401\n",
      " 1963  Michael  84172\n",
      " 1964  Michael  82975\n",
      " 1965  Michael  81403\n",
      " 1966  Michael  80348\n",
      " 1967  Michael  82826\n",
      " 1968  Michael  82493\n",
      " 1969  Michael  85684\n",
      " 1970  Michael  85778\n",
      " 1971  Michael  78070\n",
      " 1972  Michael  71877\n",
      " 1973  Michael  68315\n",
      " 1974  Michael  68102\n",
      " 1975  Michael  69014\n",
      " 1976  Michael  67486\n",
      " 1977  Michael  68172\n",
      " 1978  Michael  67698\n",
      " 1979  Michael  68281\n",
      " 1980  Michael  69212\n",
      " 1981  Michael  69239\n",
      " 1982  Michael  68780\n",
      " 1983  Michael  68563\n",
      " 1984  Michael  68230\n",
      " 1985  Michael  65418\n",
      " 1986  Michael  64774\n",
      " 1987  Michael  64175\n",
      " 1988  Michael  64596\n",
      " 1989  Michael  65737\n",
      " 1990  Michael  65551\n",
      " 1991  Michael  61048\n",
      " 1992  Michael  54635\n",
      " 1993  Michael  49775\n",
      " 1994  Michael  44656\n",
      " 1995  Michael  41570\n",
      " 1996  Michael  38521\n",
      " 1997  Michael  37685\n",
      " 1998  Michael  36741\n",
      " 1999    Jacob  35407\n",
      " 2000    Jacob  34524\n",
      " 2001    Jacob  32565\n",
      " 2002    Jacob  30597\n",
      " 2003    Jacob  29662\n",
      " 2004    Jacob  28042\n",
      " 2005    Jacob  25854\n",
      " 2006    Jacob  24867\n",
      " 2007    Jacob  24286\n",
      " 2008    Jacob  22597\n",
      " 2009 Isabella  22304\n",
      " 2010 Isabella  22913\n",
      " 2011   Sophia  21839\n",
      " 2012   Sophia  22285\n",
      " 2013   Sophia  21172\n",
      " 2014     Emma  20811\n"
     ]
    }
   ],
   "source": [
    "# Task 27 Find the most popular names in each year.\n",
    "import pandas as pd\n",
    "\n",
    "# Read the CSV file\n",
    "df = pd.read_csv('NationalNames.csv')\n",
    "\n",
    "# Group by Year and Name, summing the Count\n",
    "grouped_df = df.groupby(['Year', 'Name'])['Count'].sum().reset_index()\n",
    "\n",
    "# Find the name with the highest count for each year\n",
    "most_popular = grouped_df.loc[grouped_df.groupby('Year')['Count'].idxmax()]\n",
    "\n",
    "# Sort by Year\n",
    "most_popular = most_popular.sort_values('Year')\n",
    "\n",
    "print(most_popular.to_string(index=False))"
   ]
  },
  {
   "cell_type": "code",
   "execution_count": null,
   "id": "84176189-8e30-4bd2-bda5-d2c00818e564",
   "metadata": {
    "jupyter": {
     "source_hidden": true
    }
   },
   "outputs": [],
   "source": []
  }
 ],
 "metadata": {
  "kernelspec": {
   "display_name": "Python 3 (ipykernel)",
   "language": "python",
   "name": "python3"
  },
  "language_info": {
   "codemirror_mode": {
    "name": "ipython",
    "version": 3
   },
   "file_extension": ".py",
   "mimetype": "text/x-python",
   "name": "python",
   "nbconvert_exporter": "python",
   "pygments_lexer": "ipython3",
   "version": "3.12.5"
  }
 },
 "nbformat": 4,
 "nbformat_minor": 5
}
