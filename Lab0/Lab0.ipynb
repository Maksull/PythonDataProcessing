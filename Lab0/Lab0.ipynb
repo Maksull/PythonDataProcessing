{
 "cells": [
  {
   "cell_type": "code",
   "execution_count": 22,
   "id": "d45d0f66-ba37-48e0-b1ef-fea602b15251",
   "metadata": {},
   "outputs": [
    {
     "name": "stdout",
     "output_type": "stream",
     "text": [
      "8\n"
     ]
    }
   ],
   "source": [
    "N = ord(\"M\") % 10 + 1;\n",
    "print(N);"
   ]
  },
  {
   "cell_type": "markdown",
   "id": "b03a31e8-fe58-4b1c-9c19-e2d98baa6299",
   "metadata": {},
   "source": [
    "# Грузія\n",
    "\n",
    "<div style=\"border: 2px solid black; padding: 10px;\">\n",
    "  \n",
    "## Загальна інформація\n",
    "\n",
    "**Грузія** — країна на перехресті Європи та Азії, розташована на заході Кавказу. Вона славиться своєю унікальною культурою, історією та природними красотами.\n",
    "\n",
    "### Площа та населення\n",
    "\n",
    "- **Площа**: 69,700 км²  \n",
    "- **Населення**: ~3.7 мільйони (станом на 2023 рік)\n",
    "\n",
    "## Державний устрій\n",
    "\n",
    "- **Тип**: Парламентська республіка\n",
    "- **Столиця**: Тбілісі\n",
    "- **Офіційна мова**: грузинська\n",
    "- **Валюта**: ларі (₾)\n",
    "\n",
    "</div>\n",
    "\n",
    "---\n",
    "\n",
    "## Визначні пам’ятки\n",
    "\n",
    "- **Культурні пам'ятки:**\n",
    "  - **Старе місто Тбілісі**\n",
    "  - **Крепость Нарікала**\n",
    "  \n",
    "- **Природні пам'ятки:**\n",
    "  - **Гора Казбек**\n",
    "  - **Національний парк Боржомі-Харагаулі**\n",
    "\n",
    "---\n",
    "\n",
    "<div style=\"color: blue; border: 2px solid green; padding: 10px;\">\n",
    "\n",
    "## Видатні персоналії\n",
    "\n",
    "1. **Шота Руставелі** — поет, автор \"Витязя в тигровій шкурі\".\n",
    "2. **Ілля Чавчавадзе** — письменник, громадський діяч.\n",
    "3. **Зураб Церетелі** — сучасний художник і скульптор.\n",
    "4. **Ніно Бурджанадзе** — політичний діяч, колишній спікер парламенту.\n",
    "\n",
    "</div>\n",
    "\n",
    "---\n",
    "\n",
    "## Таблиця основних показників\n",
    "\n",
    "| Показник           | Значення                  |\n",
    "|--------------------|---------------------------|\n",
    "| Столиця            | Тбілісі                   |\n",
    "| Площа              | 69,700 км²                |\n",
    "| Населення          | ~3.7 млн                  |\n",
    "| Офіційна мова      | грузинська                |\n",
    "| Валюта             | ларі (₾)                  |\n",
    "\n",
    "---\n",
    "\n",
    "## Вкладений список\n",
    "\n",
    "1. **Туризм**\n",
    "    - Батумі\n",
    "    - Сванетія\n",
    "2. **Кухня**\n",
    "    - Хачапурі\n",
    "    - Хінкалі\n",
    "\n",
    "---\n",
    "\n",
    "## Картинки\n",
    "\n",
    "![Старе місто Тбілісі](https://upload.wikimedia.org/wikipedia/commons/thumb/8/82/View_of_Tiflis_from_Seid-Abaz%2C_Ivan_Aivazovsky.jpg/1280px-View_of_Tiflis_from_Seid-Abaz%2C_Ivan_Aivazovsky.jpg)\n",
    "![Грузія - Гора Казбек](./mount-kazbek.jpg)\n",
    "\n",
    "---\n",
    "\n",
    "## Гіперпосилання\n",
    "\n",
    "[Більше про Грузію на Wikipedia](https://uk.wikipedia.org/wiki/Грузія)\n"
   ]
  },
  {
   "cell_type": "code",
   "execution_count": 23,
   "id": "7ca48fe0-7444-4625-80d5-4065d0682395",
   "metadata": {},
   "outputs": [
    {
     "data": {
      "text/html": [
       "<h1>Прапор Грузії</h1>\n",
       "<svg xmlns=\"http://www.w3.org/2000/svg\" viewBox=\"0 0 300 200\">\n",
       "  <!-- White background -->\n",
       "  <rect width=\"300\" height=\"200\" fill=\"white\"/>\n",
       "  \n",
       "  <!-- Large red cross -->\n",
       "  <rect x=\"130\" y=\"0\" width=\"40\" height=\"200\" fill=\"#FF0000\"/>\n",
       "  <rect x=\"0\" y=\"80\" width=\"300\" height=\"40\" fill=\"#FF0000\"/>\n",
       "  \n",
       "  <!-- Four smaller red crosses, with reduced width -->\n",
       "  <!-- Top-left -->\n",
       "  <rect x=\"65\" y=\"20\" width=\"10\" height=\"40\" fill=\"#FF0000\"/>\n",
       "  <rect x=\"50\" y=\"35\" width=\"40\" height=\"10\" fill=\"#FF0000\"/>\n",
       "  \n",
       "  <!-- Top-right -->\n",
       "  <rect x=\"225\" y=\"20\" width=\"10\" height=\"40\" fill=\"#FF0000\"/>\n",
       "  <rect x=\"210\" y=\"35\" width=\"40\" height=\"10\" fill=\"#FF0000\"/>\n",
       "  \n",
       "  <!-- Bottom-left -->\n",
       "  <rect x=\"65\" y=\"140\" width=\"10\" height=\"40\" fill=\"#FF0000\"/>\n",
       "  <rect x=\"50\" y=\"155\" width=\"40\" height=\"10\" fill=\"#FF0000\"/>\n",
       "  \n",
       "  <!-- Bottom-right -->\n",
       "  <rect x=\"225\" y=\"140\" width=\"10\" height=\"40\" fill=\"#FF0000\"/>\n",
       "  <rect x=\"210\" y=\"155\" width=\"40\" height=\"10\" fill=\"#FF0000\"/>\n",
       "</svg>\n",
       "\n",
       "\n"
      ],
      "text/plain": [
       "<IPython.core.display.HTML object>"
      ]
     },
     "metadata": {},
     "output_type": "display_data"
    }
   ],
   "source": [
    "%%HTML\n",
    "<h1>Прапор Грузії</h1>\n",
    "<svg xmlns=\"http://www.w3.org/2000/svg\" viewBox=\"0 0 300 200\">\n",
    "  <!-- White background -->\n",
    "  <rect width=\"300\" height=\"200\" fill=\"white\"/>\n",
    "  \n",
    "  <!-- Large red cross -->\n",
    "  <rect x=\"130\" y=\"0\" width=\"40\" height=\"200\" fill=\"#FF0000\"/>\n",
    "  <rect x=\"0\" y=\"80\" width=\"300\" height=\"40\" fill=\"#FF0000\"/>\n",
    "  \n",
    "  <!-- Four smaller red crosses, with reduced width -->\n",
    "  <!-- Top-left -->\n",
    "  <rect x=\"65\" y=\"20\" width=\"10\" height=\"40\" fill=\"#FF0000\"/>\n",
    "  <rect x=\"50\" y=\"35\" width=\"40\" height=\"10\" fill=\"#FF0000\"/>\n",
    "  \n",
    "  <!-- Top-right -->\n",
    "  <rect x=\"225\" y=\"20\" width=\"10\" height=\"40\" fill=\"#FF0000\"/>\n",
    "  <rect x=\"210\" y=\"35\" width=\"40\" height=\"10\" fill=\"#FF0000\"/>\n",
    "  \n",
    "  <!-- Bottom-left -->\n",
    "  <rect x=\"65\" y=\"140\" width=\"10\" height=\"40\" fill=\"#FF0000\"/>\n",
    "  <rect x=\"50\" y=\"155\" width=\"40\" height=\"10\" fill=\"#FF0000\"/>\n",
    "  \n",
    "  <!-- Bottom-right -->\n",
    "  <rect x=\"225\" y=\"140\" width=\"10\" height=\"40\" fill=\"#FF0000\"/>\n",
    "  <rect x=\"210\" y=\"155\" width=\"40\" height=\"10\" fill=\"#FF0000\"/>\n",
    "</svg>\n",
    "\n",
    "\n"
   ]
  },
  {
   "cell_type": "code",
   "execution_count": 24,
   "id": "befb81aa-3269-4317-95f4-02bde49982e5",
   "metadata": {},
   "outputs": [
    {
     "name": "stdin",
     "output_type": "stream",
     "text": [
      "Enter a list of numbers separated by spaces:  1 5 2 3 7 4 9\n"
     ]
    },
    {
     "name": "stdout",
     "output_type": "stream",
     "text": [
      "[9, 7, 5, 4, 3, 2, 1]\n"
     ]
    }
   ],
   "source": [
    "def gnome_sort(arr):\n",
    "    index = 0\n",
    "    while index < len(arr):\n",
    "        if index == 0:\n",
    "            index += 1\n",
    "        if index < len(arr) and arr[index] <= arr[index - 1]:  # Change to <= for descending order\n",
    "            index += 1\n",
    "        else:\n",
    "            arr[index], arr[index - 1] = arr[index - 1], arr[index]\n",
    "            index -= 1\n",
    "    return arr\n",
    "\n",
    "def task_8():\n",
    "    # Prompt user for input\n",
    "    user_input = input(\"Enter a list of numbers separated by spaces: \")\n",
    "    # Convert input string to a list of integers\n",
    "    input_list = list(map(int, user_input.split()))\n",
    "    sorted_list = gnome_sort(input_list)\n",
    "    print(sorted_list)\n",
    "\n",
    "# Call the function\n",
    "task_8()\n"
   ]
  },
  {
   "cell_type": "code",
   "execution_count": null,
   "id": "02f73c28-54ed-4c46-b1e9-d57e90b7d1c6",
   "metadata": {},
   "outputs": [],
   "source": []
  }
 ],
 "metadata": {
  "kernelspec": {
   "display_name": "Python 3 (ipykernel)",
   "language": "python",
   "name": "python3"
  },
  "language_info": {
   "codemirror_mode": {
    "name": "ipython",
    "version": 3
   },
   "file_extension": ".py",
   "mimetype": "text/x-python",
   "name": "python",
   "nbconvert_exporter": "python",
   "pygments_lexer": "ipython3",
   "version": "3.12.5"
  }
 },
 "nbformat": 4,
 "nbformat_minor": 5
}
